{
 "cells": [
  {
   "cell_type": "code",
   "execution_count": null,
   "id": "1d23f8ed-70b8-48ed-b3c6-4e53d7af0b70",
   "metadata": {},
   "outputs": [],
   "source": [
    "# Write a program to calculate the electricity bill\n",
    "# using only if statement? (accept number of unit from user)\n",
    "# according to the following criteria:\n",
    "\n",
    "# Unit                                            Price\n",
    "# First 100 units                                 No charges\n",
    "# Next 100 units                                  Rs 5 per unit\n",
    "# After 200 units                                 Rs 10 per unit\n",
    "# (For example, if input unit is 350 than total bill amount is Rs2000). Lets explain...\n",
    "# For first 100 no charges\n",
    "# Now you have 250 unit remaining\n",
    "# 100-200 you need to pay – 100*5 = 500\n",
    "# Now 200-100 you need to pay 150*10 = 1500\n",
    "# Total = 500+1500 = 2000"
   ]
  },
  {
   "cell_type": "code",
   "execution_count": 8,
   "id": "c0b05fe2-70e0-4aee-9c19-873de972a755",
   "metadata": {},
   "outputs": [
    {
     "name": "stdin",
     "output_type": "stream",
     "text": [
      "Enter number of units consumed:  200\n"
     ]
    },
    {
     "name": "stdout",
     "output_type": "stream",
     "text": [
      "Total Electricity Bill: Rs 500\n"
     ]
    }
   ],
   "source": [
    "units = int(input(\"Enter number of units consumed: \"))\n",
    "bill = 0 \n",
    "\n",
    "# First 100 units - no charge\n",
    "if units > 100:\n",
    "    # Next 100 units (101-200) - Rs 5 per unit\n",
    "    if units > 200:\n",
    "        bill += 100 * 5  \n",
    "    else:\n",
    "        bill += (units - 100) * 5\n",
    "\n",
    "if units > 200:\n",
    "    bill += (units - 200) * 10\n",
    "\n",
    "print(\"Total Electricity Bill: Rs\", bill)\n"
   ]
  },
  {
   "cell_type": "code",
   "execution_count": null,
   "id": "a389c533-73ef-4168-9a37-4980d42e9154",
   "metadata": {},
   "outputs": [],
   "source": [
    "# Q2. Write a program to accept percentage from the user and display\n",
    "# the grade according to the following criteria:\n",
    "\n",
    "# Marks                   Grade\n",
    "# > 90                    A\n",
    "# > 80 and <= 90          B\n",
    "# >= 60 and <= 80         C\n",
    "# below 60                D"
   ]
  },
  {
   "cell_type": "code",
   "execution_count": 39,
   "id": "cf82b254-59a2-49e9-8aa8-0af7f8c68c32",
   "metadata": {},
   "outputs": [
    {
     "name": "stdin",
     "output_type": "stream",
     "text": [
      "enter your percentage 99\n"
     ]
    },
    {
     "name": "stdout",
     "output_type": "stream",
     "text": [
      "A\n"
     ]
    }
   ],
   "source": [
    "percentage_by_user = int(input(\"enter your percentage\"))\n",
    "\n",
    "if percentage_by_user >= 90:\n",
    "    print(\"A\")\n",
    "elif percentage_by_user >=80 and percentage_by_user<=90: \n",
    "    print(\"B\")\n",
    "elif percentage_by_user >=60 and percentage_by_user<=80: \n",
    "    print(\"C\")\n",
    "else:\n",
    "    print(\"D\")\n",
    "    "
   ]
  },
  {
   "cell_type": "code",
   "execution_count": null,
   "id": "3115b12d-c1ae-4b05-8a92-03e38a5d1b1d",
   "metadata": {},
   "outputs": [],
   "source": [
    "# Q3. Accept the age of 4 people and display the youngest one?"
   ]
  },
  {
   "cell_type": "code",
   "execution_count": 60,
   "id": "662ba7cf-8166-4867-ba41-afc6a9fdfeb5",
   "metadata": {},
   "outputs": [
    {
     "name": "stdin",
     "output_type": "stream",
     "text": [
      "enter your age 23\n",
      "enter your age 52\n",
      "enter your age 14\n",
      "enter your age 65\n"
     ]
    },
    {
     "name": "stdout",
     "output_type": "stream",
     "text": [
      "the youngest age is :  14\n"
     ]
    }
   ],
   "source": [
    "age1 = int(input(\"enter your age\"))\n",
    "age2 = int(input(\"enter your age\"))\n",
    "age3 = int(input(\"enter your age\"))\n",
    "age4 = int(input(\"enter your age\"))\n",
    "\n",
    "youngest_one = min(age1,age2,age3,age4)\n",
    "\n",
    "print(\"the youngest age is : \",youngest_one)"
   ]
  },
  {
   "cell_type": "code",
   "execution_count": null,
   "id": "e1dd5a1b-8aae-4aa4-9973-579ab7c3fbf9",
   "metadata": {},
   "outputs": [],
   "source": [
    "# Q4. A company decided to give bonus to employee\n",
    "# according to following criteria:\n",
    "\n",
    "# Time period of Service             Bonus\n",
    "\n",
    "# More than 10 years                 10%\n",
    "\n",
    "# >=6 and <=10                       8%\n",
    "\n",
    "# Less than 6 years                  5%\n",
    "\n",
    "# Ask user for their salary and years of service and print the\n",
    "# net bonus amount?"
   ]
  },
  {
   "cell_type": "code",
   "execution_count": 1,
   "id": "bbea0da0-779d-4806-96c2-6e898fb093b7",
   "metadata": {},
   "outputs": [
    {
     "name": "stdin",
     "output_type": "stream",
     "text": [
      "Enter your salary:  500000\n",
      "Enter your years of service:  7\n"
     ]
    },
    {
     "name": "stdout",
     "output_type": "stream",
     "text": [
      "Bonus Percentage: 8 %\n",
      "Bonus Amount: 40000.0\n"
     ]
    }
   ],
   "source": [
    "salary = float(input(\"Enter your salary: \"))\n",
    "years = int(input(\"Enter your years of service: \"))\n",
    "\n",
    "if years > 10:\n",
    "    bonus_percentage = 10\n",
    "elif years >= 6 and years <= 10:\n",
    "    bonus_percentage = 8\n",
    "else:\n",
    "    bonus_percentage = 5\n",
    "\n",
    "\n",
    "bonus_amount = (bonus_percentage / 100) * salary\n",
    "\n",
    "\n",
    "print(\"Bonus Percentage:\", bonus_percentage, \"%\")\n",
    "print(\"Bonus Amount:\", bonus_amount)\n"
   ]
  },
  {
   "cell_type": "code",
   "execution_count": null,
   "id": "8a5a243a-49dd-4082-97c3-4ef40603e4af",
   "metadata": {},
   "outputs": [],
   "source": [
    "# Q5. Accept three numbers from the user and display the second largest number?"
   ]
  },
  {
   "cell_type": "code",
   "execution_count": 5,
   "id": "e208cdf9-964e-4eed-bda0-971173fc660d",
   "metadata": {},
   "outputs": [
    {
     "name": "stdin",
     "output_type": "stream",
     "text": [
      "enter the number 12\n",
      "enter the number 11\n",
      "enter the number 10\n"
     ]
    },
    {
     "name": "stdout",
     "output_type": "stream",
     "text": [
      "the second largest number 11\n"
     ]
    }
   ],
   "source": [
    "num1 = int(input(\"enter the number\"))\n",
    "num2 = int(input(\"enter the number\"))\n",
    "num3 = int(input(\"enter the number\"))\n",
    "\n",
    "number = [num1,num2,num3]\n",
    "number.sort()\n",
    "print(\"the second largest number\",number[1])\n"
   ]
  },
  {
   "cell_type": "code",
   "execution_count": null,
   "id": "ad407023-ffe9-4b31-a02c-16c2af83964f",
   "metadata": {},
   "outputs": [],
   "source": [
    "# Q6. Accept the marked price from the user and calculate\n",
    "# the Net amount as (Marked Price – Discount) to pay\n",
    "# according to following criteria:\n",
    "\n",
    "# Marked Price                   Discount\n",
    "# >10000                         20%\n",
    "# >7000 and <=10000              15%\n",
    "# <=7000                         10%"
   ]
  },
  {
   "cell_type": "code",
   "execution_count": 4,
   "id": "7afdca2f-3256-4677-b27d-fcfb6cd4681b",
   "metadata": {},
   "outputs": [
    {
     "name": "stdin",
     "output_type": "stream",
     "text": [
      "Enter the marked price:  7500\n"
     ]
    },
    {
     "name": "stdout",
     "output_type": "stream",
     "text": [
      "Discount Percentage: 15 %\n",
      "Discount Amount: 1125.0\n",
      "Net Amount to Pay: 6375.0\n"
     ]
    }
   ],
   "source": [
    "marked_price = float(input(\"Enter the marked price: \"))\n",
    "\n",
    "if marked_price > 10000:\n",
    "    discount_percentage = 20\n",
    "elif marked_price > 7000 and marked_price <= 10000:\n",
    "    discount_percentage = 15\n",
    "else:\n",
    "    discount_percentage = 10\n",
    "\n",
    "discount = (discount_percentage / 100) * marked_price\n",
    "net_amount = marked_price - discount\n",
    "\n",
    "print(\"Discount Percentage:\", discount_percentage, \"%\")\n",
    "print(\"Discount Amount:\", discount)\n",
    "print(\"Net Amount to Pay:\", net_amount)\n"
   ]
  },
  {
   "cell_type": "code",
   "execution_count": null,
   "id": "9257e704-818e-47a2-b0c9-6f452af4a20a",
   "metadata": {},
   "outputs": [],
   "source": [
    "# Q7. Accept the marks of English, Math and Science,\n",
    "# Social Studies Subject and display the stream allotted\n",
    "# according to following:\n",
    "\n",
    "# All Subjects more than 80 marks              —        Science Stream\n",
    "\n",
    "# English >80 and Math, Science above 50       —        Commerce Stream\n",
    "\n",
    "# English > 80 and social studies > 80         —        Humanities"
   ]
  },
  {
   "cell_type": "code",
   "execution_count": 44,
   "id": "c245bb07-0e62-4a71-a6df-bf3e17e0c418",
   "metadata": {},
   "outputs": [
    {
     "name": "stdin",
     "output_type": "stream",
     "text": [
      "enter the english number :  88\n",
      "enter the math number :  22\n",
      "enter the science number :  16\n",
      "enter the social science number :  85\n"
     ]
    },
    {
     "name": "stdout",
     "output_type": "stream",
     "text": [
      "humanities\n"
     ]
    }
   ],
   "source": [
    "english_number = int(input(\"enter the english number : \"))\n",
    "math_number = int(input(\"enter the math number : \"))\n",
    "science_number = int(input(\"enter the science number : \"))\n",
    "socialscienc_number = int(input(\"enter the social science number : \"))\n",
    "\n",
    "if english_number>80 and math_number>80 and science_number>80 and socialscienc_number>80:\n",
    "    print(\"science stream\")\n",
    "elif english_number>80 and math_number>80 and science_number>50:\n",
    "    print(\"commerce stream\")\n",
    "elif english_number>80 and socialscienc_number>80:\n",
    "    print(\"humanities\")\n",
    "else:\n",
    "    print(\"no stream allocated\")\n",
    "    "
   ]
  },
  {
   "cell_type": "code",
   "execution_count": null,
   "id": "3004ad16-71d5-46b2-bdcd-9b844d595202",
   "metadata": {},
   "outputs": [],
   "source": [
    "# Q8. Write a program to display \"Hello\" if a number enteredby user is a multiple of five, otherwise print \"Bye\"?"
   ]
  },
  {
   "cell_type": "code",
   "execution_count": 47,
   "id": "fbd76671-2b19-498d-ae03-b6e1a7815bec",
   "metadata": {},
   "outputs": [
    {
     "name": "stdin",
     "output_type": "stream",
     "text": [
      "enter the number 51255444552114544510\n"
     ]
    },
    {
     "name": "stdout",
     "output_type": "stream",
     "text": [
      "hello\n"
     ]
    }
   ],
   "source": [
    "num = int(input(\"enter the number : \"))\n",
    "\n",
    "if num % 5 == 0:\n",
    "    print(\"hello\")\n",
    "else:\n",
    "    print(\"bye\")\n"
   ]
  },
  {
   "cell_type": "code",
   "execution_count": null,
   "id": "dcfba458-b785-4a4e-adc2-59b583b25844",
   "metadata": {},
   "outputs": [],
   "source": [
    "# Q9. Write a program to check whether the last digit of a number(entered by user) is divisible by 3 or not?"
   ]
  },
  {
   "cell_type": "code",
   "execution_count": 50,
   "id": "1e303ba2-6110-495b-837a-dddfdf506d8c",
   "metadata": {},
   "outputs": [
    {
     "name": "stdin",
     "output_type": "stream",
     "text": [
      "enter the number :  96\n"
     ]
    },
    {
     "name": "stdout",
     "output_type": "stream",
     "text": [
      "divisible by 3\n"
     ]
    }
   ],
   "source": [
    "last_digit = int(input(\"enter the number : \"))\n",
    "\n",
    "if last_digit % 3 == 0:\n",
    "    print(\"divisible by 3\")\n",
    "else:\n",
    "    print(\"not divisible by 3\")"
   ]
  },
  {
   "cell_type": "code",
   "execution_count": null,
   "id": "7b325bb2-78da-4bd7-96cd-1cd945acd881",
   "metadata": {},
   "outputs": [],
   "source": [
    "# Q10. Write a program to check whether a number entered is three-digit number or not?"
   ]
  },
  {
   "cell_type": "code",
   "execution_count": 58,
   "id": "7d9e75b3-770a-45bb-8fdf-d526c250f24a",
   "metadata": {},
   "outputs": [
    {
     "name": "stdin",
     "output_type": "stream",
     "text": [
      "Enter a number:  562\n"
     ]
    },
    {
     "name": "stdout",
     "output_type": "stream",
     "text": [
      "The number is a three-digit number.\n"
     ]
    }
   ],
   "source": [
    "num = int(input(\"Enter a number: \"))\n",
    "\n",
    "if 100 <= abs(num) <= 999:\n",
    "    print(\"The number is a three-digit number\")\n",
    "else:\n",
    "    print(\"The number is not a three-digit number\")\n"
   ]
  }
 ],
 "metadata": {
  "kernelspec": {
   "display_name": "Python [conda env:base] *",
   "language": "python",
   "name": "conda-base-py"
  },
  "language_info": {
   "codemirror_mode": {
    "name": "ipython",
    "version": 3
   },
   "file_extension": ".py",
   "mimetype": "text/x-python",
   "name": "python",
   "nbconvert_exporter": "python",
   "pygments_lexer": "ipython3",
   "version": "3.13.5"
  }
 },
 "nbformat": 4,
 "nbformat_minor": 5
}
